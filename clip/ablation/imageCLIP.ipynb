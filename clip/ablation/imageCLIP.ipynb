{
 "cells": [
  {
   "cell_type": "code",
   "execution_count": 1,
   "metadata": {},
   "outputs": [],
   "source": [
    "import pandas as pd\n",
    "import numpy as np\n",
    "import torch"
   ]
  },
  {
   "cell_type": "code",
   "execution_count": 2,
   "metadata": {},
   "outputs": [
    {
     "name": "stdout",
     "output_type": "stream",
     "text": [
      "cuda\n"
     ]
    }
   ],
   "source": [
    "device = \"cuda\" if torch.cuda.is_available() else \\\n",
    "         (\"mps\" if torch.backends.mps.is_available() else \"cpu\")\n",
    "print(device)"
   ]
  },
  {
   "cell_type": "code",
   "execution_count": 3,
   "metadata": {},
   "outputs": [
    {
     "name": "stdout",
     "output_type": "stream",
     "text": [
      "Training set size: 43793\n",
      "Test set size: 5475\n",
      "Validation set size: 5474\n"
     ]
    }
   ],
   "source": [
    "df_train = pd.read_csv('text_dataset_train.tsv', sep='\\t')\n",
    "df_test = pd.read_csv('text_dataset_test.tsv', sep='\\t')\n",
    "df_val = pd.read_csv('text_dataset_val.tsv', sep='\\t')\n",
    "\n",
    "print(\"Training set size:\", len(df_train))\n",
    "print(\"Test set size:\", len(df_test))\n",
    "print(\"Validation set size:\", len(df_val))"
   ]
  },
  {
   "cell_type": "code",
   "execution_count": 4,
   "metadata": {},
   "outputs": [],
   "source": [
    "multi_traindata = df_train\n",
    "multi_validata = df_test\n",
    "multi_testdata = df_val"
   ]
  },
  {
   "cell_type": "code",
   "execution_count": 5,
   "metadata": {},
   "outputs": [],
   "source": [
    "train_data = multi_traindata[multi_traindata['clean_title'].notna()]\n",
    "\n",
    "valid_data = multi_validata[multi_validata['clean_title'].notna()]\n",
    "\n",
    "test_data = multi_testdata[multi_testdata['clean_title'].notna()]"
   ]
  },
  {
   "cell_type": "code",
   "execution_count": 6,
   "metadata": {},
   "outputs": [],
   "source": [
    "train_labels, train_images, train_id = train_data['6_way_label'].tolist(), train_data['id'].tolist(), train_data['id'].tolist()\n",
    "valid_labels, valid_images, valid_id = valid_data['6_way_label'].tolist(), valid_data['id'].tolist(), valid_data['id'].tolist()\n",
    "test_labels, test_images, test_id = test_data['6_way_label'].tolist(), test_data['id'].tolist(), test_data['id'].tolist()"
   ]
  },
  {
   "cell_type": "code",
   "execution_count": 7,
   "metadata": {},
   "outputs": [],
   "source": [
    "def add_suffix(images, suffix='.jpg'):\n",
    "    return ['image_dataset/'+ image + suffix for image in images]\n",
    "\n",
    "train_images_final = add_suffix(train_images)\n",
    "valid_images_final = add_suffix(valid_images)\n",
    "test_images_final = add_suffix(test_images)"
   ]
  },
  {
   "cell_type": "code",
   "execution_count": 8,
   "metadata": {},
   "outputs": [
    {
     "name": "stderr",
     "output_type": "stream",
     "text": [
      "c:\\Users\\varun\\AppData\\Local\\Programs\\Python\\Python311\\Lib\\site-packages\\tqdm\\auto.py:21: TqdmWarning: IProgress not found. Please update jupyter and ipywidgets. See https://ipywidgets.readthedocs.io/en/stable/user_install.html\n",
      "  from .autonotebook import tqdm as notebook_tqdm\n"
     ]
    }
   ],
   "source": [
    "from transformers import CLIPTokenizerFast, CLIPProcessor, CLIPModel\n",
    "import torch\n",
    "\n",
    "# if you have CUDA or MPS, set it to the active device like this\n",
    "\n",
    "model_id = \"openai/clip-vit-base-patch32\"\n",
    "\n",
    "# we initialize a tokenizer and image processor, and the model itself\n",
    "tokenizer = CLIPTokenizerFast.from_pretrained(model_id)\n",
    "processor = CLIPProcessor.from_pretrained(model_id)\n",
    "model = CLIPModel.from_pretrained(model_id).to(device)"
   ]
  },
  {
   "cell_type": "markdown",
   "metadata": {},
   "source": [
    "# preparing embeddings"
   ]
  },
  {
   "cell_type": "code",
   "execution_count": 9,
   "metadata": {},
   "outputs": [
    {
     "name": "stderr",
     "output_type": "stream",
     "text": [
      "c:\\Users\\varun\\AppData\\Local\\Programs\\Python\\Python311\\Lib\\site-packages\\PIL\\Image.py:970: UserWarning: Palette images with Transparency expressed in bytes should be converted to RGBA images\n",
      "  warnings.warn(\n",
      "c:\\Users\\varun\\AppData\\Local\\Programs\\Python\\Python311\\Lib\\site-packages\\PIL\\Image.py:970: UserWarning: Palette images with Transparency expressed in bytes should be converted to RGBA images\n",
      "  warnings.warn(\n",
      "c:\\Users\\varun\\AppData\\Local\\Programs\\Python\\Python311\\Lib\\site-packages\\PIL\\Image.py:970: UserWarning: Palette images with Transparency expressed in bytes should be converted to RGBA images\n",
      "  warnings.warn(\n",
      "c:\\Users\\varun\\AppData\\Local\\Programs\\Python\\Python311\\Lib\\site-packages\\PIL\\Image.py:970: UserWarning: Palette images with Transparency expressed in bytes should be converted to RGBA images\n",
      "  warnings.warn(\n",
      "c:\\Users\\varun\\AppData\\Local\\Programs\\Python\\Python311\\Lib\\site-packages\\PIL\\Image.py:970: UserWarning: Palette images with Transparency expressed in bytes should be converted to RGBA images\n",
      "  warnings.warn(\n",
      "c:\\Users\\varun\\AppData\\Local\\Programs\\Python\\Python311\\Lib\\site-packages\\PIL\\Image.py:970: UserWarning: Palette images with Transparency expressed in bytes should be converted to RGBA images\n",
      "  warnings.warn(\n",
      "c:\\Users\\varun\\AppData\\Local\\Programs\\Python\\Python311\\Lib\\site-packages\\PIL\\Image.py:970: UserWarning: Palette images with Transparency expressed in bytes should be converted to RGBA images\n",
      "  warnings.warn(\n",
      "c:\\Users\\varun\\AppData\\Local\\Programs\\Python\\Python311\\Lib\\site-packages\\PIL\\Image.py:970: UserWarning: Palette images with Transparency expressed in bytes should be converted to RGBA images\n",
      "  warnings.warn(\n",
      "c:\\Users\\varun\\AppData\\Local\\Programs\\Python\\Python311\\Lib\\site-packages\\PIL\\Image.py:970: UserWarning: Palette images with Transparency expressed in bytes should be converted to RGBA images\n",
      "  warnings.warn(\n"
     ]
    }
   ],
   "source": [
    "import pandas as pd\n",
    "from PIL import Image\n",
    "\n",
    "output_file = \"image_embeddings_train.csv\"\n",
    "batch_size = 1\n",
    "\n",
    "embeddings_df = pd.DataFrame()\n",
    "\n",
    "for i in range(0, len(train_images_final), batch_size):\n",
    "    batch_ids = train_id[i:i + batch_size]\n",
    "    batch_images = train_images_final[i:i + batch_size]\n",
    "    batch_labels = train_labels[i:i + batch_size]\n",
    "\n",
    "    temp_df = pd.DataFrame({\n",
    "        'id': batch_ids,\n",
    "        'label': batch_labels,\n",
    "    })\n",
    "\n",
    "    for image_path in batch_images:\n",
    "        image = processor(\n",
    "            text=None,\n",
    "            images=Image.open(image_path),\n",
    "            return_tensors='pt'\n",
    "        )['pixel_values'].to(device)\n",
    "        img_emb = model.get_image_features(image)\n",
    "        img_emb = img_emb.detach().cpu().numpy().reshape(1, -1)\n",
    "\n",
    "        temp_df['image_embedding'] = ['\\t'.join(map(str, emb)) for emb in img_emb]\n",
    "\n",
    "    embeddings_df = pd.concat([embeddings_df, temp_df], ignore_index=True)\n",
    "\n",
    "# save csv\n",
    "embeddings_df[['id', 'label', 'image_embedding']].to_csv(output_file, index=False)\n"
   ]
  },
  {
   "cell_type": "code",
   "execution_count": 10,
   "metadata": {},
   "outputs": [
    {
     "name": "stderr",
     "output_type": "stream",
     "text": [
      "c:\\Users\\varun\\AppData\\Local\\Programs\\Python\\Python311\\Lib\\site-packages\\PIL\\Image.py:970: UserWarning: Palette images with Transparency expressed in bytes should be converted to RGBA images\n",
      "  warnings.warn(\n"
     ]
    }
   ],
   "source": [
    "import pandas as pd\n",
    "from PIL import Image\n",
    "\n",
    "output_file = \"image_embeddings_valid.csv\"\n",
    "batch_size = 1\n",
    "\n",
    "embeddings_df = pd.DataFrame()\n",
    "\n",
    "for i in range(0, len(valid_images_final), batch_size):\n",
    "    batch_ids = valid_id[i:i + batch_size]\n",
    "    batch_images = valid_images_final[i:i + batch_size]\n",
    "    batch_labels = valid_labels[i:i + batch_size]\n",
    "\n",
    "    temp_df = pd.DataFrame({\n",
    "        'id': batch_ids,\n",
    "        'label': batch_labels,\n",
    "    })\n",
    "\n",
    "    for image_path in batch_images:\n",
    "        image = processor(\n",
    "            text=None,\n",
    "            images=Image.open(image_path),\n",
    "            return_tensors='pt'\n",
    "        )['pixel_values'].to(device)\n",
    "        img_emb = model.get_image_features(image)\n",
    "        img_emb = img_emb.detach().cpu().numpy().reshape(1, -1)\n",
    "\n",
    "        temp_df['image_embedding'] = ['\\t'.join(map(str, emb)) for emb in img_emb]\n",
    "\n",
    "    embeddings_df = pd.concat([embeddings_df, temp_df], ignore_index=True)\n",
    "\n",
    "# save csv\n",
    "embeddings_df[['id', 'label', 'image_embedding']].to_csv(output_file, index=False)\n"
   ]
  },
  {
   "cell_type": "code",
   "execution_count": 11,
   "metadata": {},
   "outputs": [
    {
     "name": "stderr",
     "output_type": "stream",
     "text": [
      "c:\\Users\\varun\\AppData\\Local\\Programs\\Python\\Python311\\Lib\\site-packages\\PIL\\Image.py:970: UserWarning: Palette images with Transparency expressed in bytes should be converted to RGBA images\n",
      "  warnings.warn(\n",
      "c:\\Users\\varun\\AppData\\Local\\Programs\\Python\\Python311\\Lib\\site-packages\\PIL\\Image.py:970: UserWarning: Palette images with Transparency expressed in bytes should be converted to RGBA images\n",
      "  warnings.warn(\n",
      "c:\\Users\\varun\\AppData\\Local\\Programs\\Python\\Python311\\Lib\\site-packages\\PIL\\Image.py:970: UserWarning: Palette images with Transparency expressed in bytes should be converted to RGBA images\n",
      "  warnings.warn(\n"
     ]
    }
   ],
   "source": [
    "import pandas as pd\n",
    "from PIL import Image\n",
    "\n",
    "output_file = \"image_embeddings_test.csv\"\n",
    "batch_size = 1\n",
    "\n",
    "embeddings_df = pd.DataFrame()\n",
    "\n",
    "for i in range(0, len(test_images_final), batch_size):\n",
    "    batch_ids = test_id[i:i + batch_size]\n",
    "    batch_images = test_images_final[i:i + batch_size]\n",
    "    batch_labels = test_labels[i:i + batch_size]\n",
    "\n",
    "    temp_df = pd.DataFrame({\n",
    "        'id': batch_ids,\n",
    "        'label': batch_labels,\n",
    "    })\n",
    "\n",
    "    for image_path in batch_images:\n",
    "        image = processor(\n",
    "            text=None,\n",
    "            images=Image.open(image_path),\n",
    "            return_tensors='pt'\n",
    "        )['pixel_values'].to(device)\n",
    "        img_emb = model.get_image_features(image)\n",
    "        img_emb = img_emb.detach().cpu().numpy().reshape(1, -1)\n",
    "\n",
    "        temp_df['image_embedding'] = ['\\t'.join(map(str, emb)) for emb in img_emb]\n",
    "\n",
    "    embeddings_df = pd.concat([embeddings_df, temp_df], ignore_index=True)\n",
    "\n",
    "# save csv\n",
    "embeddings_df[['id', 'label', 'image_embedding']].to_csv(output_file, index=False)\n"
   ]
  },
  {
   "cell_type": "code",
   "execution_count": 12,
   "metadata": {},
   "outputs": [],
   "source": [
    "import torch\n",
    "import torch.nn as nn\n",
    "import torch.optim as optim\n",
    "import pandas as pd\n",
    "from torch.utils.data import Dataset, DataLoader\n",
    "from sklearn.model_selection import train_test_split"
   ]
  },
  {
   "cell_type": "code",
   "execution_count": 13,
   "metadata": {},
   "outputs": [],
   "source": [
    "class MyDataset(Dataset):\n",
    "    def __init__(self, csv_file):\n",
    "        self.data = pd.read_csv(csv_file)\n",
    "        self.text_embeddings = self.data['image_embedding'].apply(lambda x: list(map(float, x.split('\\t')))).tolist()\n",
    "        self.labels = self.data['label'].tolist()\n",
    "\n",
    "    def __len__(self):\n",
    "        return len(self.data)\n",
    "\n",
    "    def __getitem__(self, index):\n",
    "        text_emb = torch.tensor(self.text_embeddings[index])\n",
    "        label = torch.tensor(self.labels[index])\n",
    "        return text_emb, label"
   ]
  },
  {
   "cell_type": "code",
   "execution_count": 14,
   "metadata": {},
   "outputs": [],
   "source": [
    "train_file = 'image_embeddings_train.csv'\n",
    "val_file = 'image_embeddings_valid.csv'  \n",
    "test_file = 'image_embeddings_test.csv'  \n",
    "\n",
    "train_data = MyDataset(train_file)\n",
    "val_data = MyDataset(val_file) \n",
    "test_data = MyDataset(test_file)"
   ]
  },
  {
   "cell_type": "markdown",
   "metadata": {},
   "source": [
    "# defining the model"
   ]
  },
  {
   "cell_type": "code",
   "execution_count": 15,
   "metadata": {},
   "outputs": [],
   "source": [
    "class ClassificationModel(nn.Module):\n",
    "    def __init__(self, input_size):\n",
    "        super(ClassificationModel, self).__init__()\n",
    "        self.fc1 = nn.Linear(input_size, 256)\n",
    "        self.fc2 = nn.Linear(256, 128)\n",
    "        self.fc3 = nn.Linear(128, 6)  \n",
    "    \n",
    "    def forward(self, text_emb):\n",
    "        x = self.fc1(text_emb)\n",
    "        x = nn.ReLU()(x)\n",
    "        x = self.fc2(x)\n",
    "        x = nn.ReLU()(x)\n",
    "        x = self.fc3(x)\n",
    "        return x"
   ]
  },
  {
   "cell_type": "code",
   "execution_count": 16,
   "metadata": {},
   "outputs": [],
   "source": [
    "model = ClassificationModel(input_size=512)"
   ]
  },
  {
   "cell_type": "code",
   "execution_count": 17,
   "metadata": {},
   "outputs": [],
   "source": [
    "device = torch.device('cuda' if torch.cuda.is_available() else 'cpu')\n",
    "\n",
    "train_loader = DataLoader(train_data, batch_size=32, shuffle=True)\n",
    "val_loader = DataLoader(val_data, batch_size=32)\n",
    "test_loader = DataLoader(test_data, batch_size=32)\n",
    "\n",
    "criterion = nn.CrossEntropyLoss()\n",
    "optimizer = optim.Adam(model.parameters(), lr=0.001)"
   ]
  },
  {
   "cell_type": "code",
   "execution_count": 18,
   "metadata": {},
   "outputs": [
    {
     "data": {
      "text/plain": [
       "CrossEntropyLoss()"
      ]
     },
     "execution_count": 18,
     "metadata": {},
     "output_type": "execute_result"
    }
   ],
   "source": [
    "model.to(device)\n",
    "criterion.to(device)"
   ]
  },
  {
   "cell_type": "markdown",
   "metadata": {},
   "source": [
    "# training"
   ]
  },
  {
   "cell_type": "code",
   "execution_count": 19,
   "metadata": {},
   "outputs": [
    {
     "name": "stdout",
     "output_type": "stream",
     "text": [
      "Epoch: 1/10, Train Loss: 0.8271, Train Accuracy: 0.6824, Val Loss: 0.7542, Val Accuracy: 0.7131\n",
      "Epoch: 2/10, Train Loss: 0.6838, Train Accuracy: 0.7387, Val Loss: 0.7428, Val Accuracy: 0.7202\n",
      "Epoch: 3/10, Train Loss: 0.6040, Train Accuracy: 0.7687, Val Loss: 0.7551, Val Accuracy: 0.7180\n",
      "Epoch: 4/10, Train Loss: 0.5203, Train Accuracy: 0.8021, Val Loss: 0.8040, Val Accuracy: 0.7149\n",
      "Epoch: 5/10, Train Loss: 0.4265, Train Accuracy: 0.8382, Val Loss: 0.9130, Val Accuracy: 0.7098\n",
      "Epoch: 6/10, Train Loss: 0.3365, Train Accuracy: 0.8719, Val Loss: 1.0477, Val Accuracy: 0.6950\n",
      "Epoch: 7/10, Train Loss: 0.2590, Train Accuracy: 0.9023, Val Loss: 1.2327, Val Accuracy: 0.6924\n",
      "Epoch: 8/10, Train Loss: 0.2037, Train Accuracy: 0.9252, Val Loss: 1.4269, Val Accuracy: 0.6924\n",
      "Epoch: 9/10, Train Loss: 0.1686, Train Accuracy: 0.9390, Val Loss: 1.6439, Val Accuracy: 0.6886\n",
      "Epoch: 10/10, Train Loss: 0.1407, Train Accuracy: 0.9485, Val Loss: 1.8074, Val Accuracy: 0.6889\n"
     ]
    }
   ],
   "source": [
    "num_epochs = 10\n",
    "\n",
    "for epoch in range(num_epochs):\n",
    "    train_loss = 0.0\n",
    "    train_correct = 0.0\n",
    "    model.train()\n",
    "\n",
    "    for text_emb, labels in train_loader:\n",
    "        text_emb = text_emb.to(device)\n",
    "        labels = labels.to(device)\n",
    "\n",
    "        optimizer.zero_grad()\n",
    "\n",
    "        outputs = model(text_emb)\n",
    "        _, predicted = torch.max(outputs.data, 1)\n",
    "\n",
    "        loss = criterion(outputs, labels.long())\n",
    "        loss.backward()\n",
    "        optimizer.step()\n",
    "\n",
    "        train_loss += loss.item()\n",
    "        train_correct += (predicted == labels).sum().item()\n",
    "\n",
    "    train_accuracy = train_correct / len(train_data)\n",
    "    train_loss /= len(train_loader)\n",
    "\n",
    "    model.eval()\n",
    "    val_loss = 0.0\n",
    "    val_correct = 0.0\n",
    "\n",
    "    with torch.no_grad():\n",
    "        for text_emb, labels in val_loader:\n",
    "            text_emb = text_emb.to(device)\n",
    "            labels = labels.to(device)\n",
    "\n",
    "            outputs = model(text_emb)\n",
    "            _, predicted = torch.max(outputs.data, 1)\n",
    "\n",
    "            loss = criterion(outputs, labels.long())\n",
    "\n",
    "            val_loss += loss.item()\n",
    "            val_correct += (predicted == labels).sum().item()\n",
    "\n",
    "    val_accuracy = val_correct / len(val_data)\n",
    "    val_loss /= len(val_loader)\n",
    "\n",
    "    print(f'Epoch: {epoch+1}/{num_epochs}, Train Loss: {train_loss:.4f}, Train Accuracy: {train_accuracy:.4f}, '\n",
    "          f'Val Loss: {val_loss:.4f}, Val Accuracy: {val_accuracy:.4f}')"
   ]
  },
  {
   "cell_type": "markdown",
   "metadata": {},
   "source": [
    "# testing"
   ]
  },
  {
   "cell_type": "code",
   "execution_count": 20,
   "metadata": {},
   "outputs": [
    {
     "name": "stdout",
     "output_type": "stream",
     "text": [
      "Test Accuracy: 0.6790\n"
     ]
    }
   ],
   "source": [
    "model.eval()\n",
    "test_correct = 0.0\n",
    "\n",
    "with torch.no_grad():\n",
    "    for text_emb, labels in test_loader:\n",
    "        text_emb = text_emb.to(device)\n",
    "        labels = labels.to(device)\n",
    "\n",
    "        outputs = model(text_emb)\n",
    "        _, predicted = torch.max(outputs.data, 1)\n",
    "\n",
    "        test_correct += (predicted == labels).sum().item()\n",
    "\n",
    "test_accuracy = test_correct / len(test_data)\n",
    "print(f'Test Accuracy: {test_accuracy:.4f}')"
   ]
  }
 ],
 "metadata": {
  "kernelspec": {
   "display_name": "Python 3",
   "language": "python",
   "name": "python3"
  },
  "language_info": {
   "codemirror_mode": {
    "name": "ipython",
    "version": 3
   },
   "file_extension": ".py",
   "mimetype": "text/x-python",
   "name": "python",
   "nbconvert_exporter": "python",
   "pygments_lexer": "ipython3",
   "version": "3.11.5"
  }
 },
 "nbformat": 4,
 "nbformat_minor": 2
}

{
 "cells": [
  {
   "attachments": {},
   "cell_type": "markdown",
   "metadata": {},
   "source": [
    "<h2 align='center'>Preparing the dataset<h2>"
   ]
  },
  {
   "cell_type": "code",
   "execution_count": 43,
   "metadata": {},
   "outputs": [],
   "source": [
    "import pandas as pd\n",
    "import numpy as np\n",
    "import torch"
   ]
  },
  {
   "cell_type": "code",
   "execution_count": 2,
   "metadata": {},
   "outputs": [
    {
     "name": "stdout",
     "output_type": "stream",
     "text": [
      "cuda\n"
     ]
    }
   ],
   "source": [
    "device = \"cuda\" if torch.cuda.is_available() else \\\n",
    "         (\"mps\" if torch.backends.mps.is_available() else \"cpu\")\n",
    "print(device)"
   ]
  },
  {
   "cell_type": "code",
   "execution_count": 3,
   "metadata": {},
   "outputs": [
    {
     "name": "stdout",
     "output_type": "stream",
     "text": [
      "Training set size: 43793\n",
      "Test set size: 5475\n",
      "Validation set size: 5474\n"
     ]
    }
   ],
   "source": [
    "#full dataset reading\n",
    "# df=pd.read_csv('text_dataset.tsv',sep='\\t')\n",
    "# import pandas as pd\n",
    "# from sklearn.model_selection import train_test_split\n",
    "\n",
    "# train_temp, test_temp = train_test_split(df, test_size=0.2, stratify=df['6_way_label'] ,random_state=42)\n",
    "\n",
    "# test, val = train_test_split(test_temp, test_size=0.5,stratify=test_temp['6_way_label'] , random_state=42)\n",
    "\n",
    "df_train = pd.read_csv('text_dataset_train.tsv', sep='\\t')\n",
    "df_test = pd.read_csv('text_dataset_test.tsv', sep='\\t')\n",
    "df_val = pd.read_csv('text_dataset_val.tsv', sep='\\t')\n",
    "\n",
    "print(\"Training set size:\", len(df_train))\n",
    "print(\"Test set size:\", len(df_test))\n",
    "print(\"Validation set size:\", len(df_val))"
   ]
  },
  {
   "cell_type": "code",
   "execution_count": 4,
   "metadata": {},
   "outputs": [],
   "source": [
    "multi_traindata = df_train\n",
    "multi_validata = df_test\n",
    "multi_testdata = df_val"
   ]
  },
  {
   "cell_type": "code",
   "execution_count": 5,
   "metadata": {},
   "outputs": [],
   "source": [
    "train_data = multi_traindata[multi_traindata['clean_title'].notna()]\n",
    "\n",
    "valid_data = multi_validata[multi_validata['clean_title'].notna()]\n",
    "\n",
    "test_data = multi_testdata[multi_testdata['clean_title'].notna()]"
   ]
  },
  {
   "cell_type": "code",
   "execution_count": 6,
   "metadata": {},
   "outputs": [],
   "source": [
    "train_news, train_labels, train_images, train_id = train_data ['clean_title'].tolist(), train_data['6_way_label'].tolist(), train_data['id'].tolist(), train_data['id'].tolist()\n",
    "valid_news, valid_labels, valid_images, valid_id = valid_data['clean_title'].tolist(), valid_data['6_way_label'].tolist(), valid_data['id'].tolist(), valid_data['id'].tolist()\n",
    "test_news, test_labels, test_images, test_id = test_data['clean_title'].tolist(), test_data['6_way_label'].tolist(), test_data['id'].tolist(), test_data['id'].tolist()"
   ]
  },
  {
   "cell_type": "code",
   "execution_count": 7,
   "metadata": {},
   "outputs": [],
   "source": [
    "def add_suffix(images, suffix='.jpg'):\n",
    "    return ['image_dataset/'+ image + suffix for image in images]\n",
    "\n",
    "train_images_final = add_suffix(train_images)\n",
    "valid_images_final = add_suffix(valid_images)\n",
    "test_images_final = add_suffix(test_images)"
   ]
  },
  {
   "cell_type": "code",
   "execution_count": 8,
   "metadata": {},
   "outputs": [],
   "source": [
    "from transformers import CLIPTokenizerFast, CLIPProcessor, CLIPModel\n",
    "import torch\n",
    "\n",
    "# if you have CUDA or MPS, set it to the active device like this\n",
    "\n",
    "model_id = \"openai/clip-vit-base-patch32\"\n",
    "\n",
    "# we initialize a tokenizer and image processor, and the model itself\n",
    "tokenizer = CLIPTokenizerFast.from_pretrained(model_id)\n",
    "processor = CLIPProcessor.from_pretrained(model_id)\n",
    "model = CLIPModel.from_pretrained(model_id).to(device)"
   ]
  },
  {
   "attachments": {},
   "cell_type": "markdown",
   "metadata": {},
   "source": [
    "<h2 align='center'>Forming the text and image embeddings<h2>"
   ]
  },
  {
   "cell_type": "code",
   "execution_count": 9,
   "metadata": {},
   "outputs": [
    {
     "name": "stderr",
     "output_type": "stream",
     "text": [
      "C:\\Users\\varun\\AppData\\Local\\Packages\\PythonSoftwareFoundation.Python.3.10_qbz5n2kfra8p0\\LocalCache\\local-packages\\Python310\\site-packages\\PIL\\Image.py:979: UserWarning: Palette images with Transparency expressed in bytes should be converted to RGBA images\n",
      "  warnings.warn(\n",
      "C:\\Users\\varun\\AppData\\Local\\Packages\\PythonSoftwareFoundation.Python.3.10_qbz5n2kfra8p0\\LocalCache\\local-packages\\Python310\\site-packages\\PIL\\Image.py:979: UserWarning: Palette images with Transparency expressed in bytes should be converted to RGBA images\n",
      "  warnings.warn(\n",
      "C:\\Users\\varun\\AppData\\Local\\Packages\\PythonSoftwareFoundation.Python.3.10_qbz5n2kfra8p0\\LocalCache\\local-packages\\Python310\\site-packages\\PIL\\Image.py:979: UserWarning: Palette images with Transparency expressed in bytes should be converted to RGBA images\n",
      "  warnings.warn(\n",
      "C:\\Users\\varun\\AppData\\Local\\Packages\\PythonSoftwareFoundation.Python.3.10_qbz5n2kfra8p0\\LocalCache\\local-packages\\Python310\\site-packages\\PIL\\Image.py:979: UserWarning: Palette images with Transparency expressed in bytes should be converted to RGBA images\n",
      "  warnings.warn(\n",
      "C:\\Users\\varun\\AppData\\Local\\Packages\\PythonSoftwareFoundation.Python.3.10_qbz5n2kfra8p0\\LocalCache\\local-packages\\Python310\\site-packages\\PIL\\Image.py:979: UserWarning: Palette images with Transparency expressed in bytes should be converted to RGBA images\n",
      "  warnings.warn(\n",
      "C:\\Users\\varun\\AppData\\Local\\Packages\\PythonSoftwareFoundation.Python.3.10_qbz5n2kfra8p0\\LocalCache\\local-packages\\Python310\\site-packages\\PIL\\Image.py:979: UserWarning: Palette images with Transparency expressed in bytes should be converted to RGBA images\n",
      "  warnings.warn(\n",
      "C:\\Users\\varun\\AppData\\Local\\Packages\\PythonSoftwareFoundation.Python.3.10_qbz5n2kfra8p0\\LocalCache\\local-packages\\Python310\\site-packages\\PIL\\Image.py:979: UserWarning: Palette images with Transparency expressed in bytes should be converted to RGBA images\n",
      "  warnings.warn(\n",
      "C:\\Users\\varun\\AppData\\Local\\Packages\\PythonSoftwareFoundation.Python.3.10_qbz5n2kfra8p0\\LocalCache\\local-packages\\Python310\\site-packages\\PIL\\Image.py:979: UserWarning: Palette images with Transparency expressed in bytes should be converted to RGBA images\n",
      "  warnings.warn(\n",
      "C:\\Users\\varun\\AppData\\Local\\Packages\\PythonSoftwareFoundation.Python.3.10_qbz5n2kfra8p0\\LocalCache\\local-packages\\Python310\\site-packages\\PIL\\Image.py:979: UserWarning: Palette images with Transparency expressed in bytes should be converted to RGBA images\n",
      "  warnings.warn(\n"
     ]
    }
   ],
   "source": [
    "import pandas as pd\n",
    "from PIL import Image\n",
    "\n",
    "output_file = \"text_image_embeddings_train.csv\"  \n",
    "batch_size = 1  \n",
    "\n",
    "embeddings_df = pd.DataFrame()\n",
    "\n",
    "for i in range(0, len(train_news), batch_size):\n",
    "    batch_ids = train_id[i:i+batch_size]\n",
    "    batch_texts = train_news[i:i+batch_size]\n",
    "    batch_labels = train_labels[i:i+batch_size]  \n",
    "    batch_inputs = tokenizer(batch_texts, return_tensors=\"pt\", padding=True, truncation=True)\n",
    "    batch_inputs = {k: v.to(device) for k, v in batch_inputs.items()}\n",
    "    batch_text_emb = model.get_text_features(**batch_inputs)\n",
    "    batch_text_emb = batch_text_emb.detach().cpu().numpy()\n",
    "    \n",
    "    temp_df = pd.DataFrame({\n",
    "        'id': batch_ids,\n",
    "        'label': batch_labels,\n",
    "        'text_embedding': ['\\t'.join(map(str, emb)) for emb in batch_text_emb]\n",
    "    })\n",
    "    \n",
    "    for image_path in train_images_final[i:i+batch_size]:\n",
    "        image = processor(\n",
    "            text=None,\n",
    "            images=Image.open(image_path),\n",
    "            return_tensors='pt'\n",
    "        )['pixel_values'].to(device)\n",
    "        img_emb = model.get_image_features(image)\n",
    "        img_emb = img_emb.detach().cpu().numpy().reshape(1, -1)  \n",
    "        \n",
    "        temp_df['image_embedding'] = ['\\t'.join(map(str, emb)) for emb in img_emb]\n",
    "    \n",
    "    embeddings_df = pd.concat([embeddings_df, temp_df], ignore_index=True)\n",
    "    \n",
    "embeddings_df.to_csv(output_file, index=False)\n"
   ]
  },
  {
   "cell_type": "code",
   "execution_count": 10,
   "metadata": {},
   "outputs": [
    {
     "name": "stderr",
     "output_type": "stream",
     "text": [
      "C:\\Users\\varun\\AppData\\Local\\Packages\\PythonSoftwareFoundation.Python.3.10_qbz5n2kfra8p0\\LocalCache\\local-packages\\Python310\\site-packages\\PIL\\Image.py:979: UserWarning: Palette images with Transparency expressed in bytes should be converted to RGBA images\n",
      "  warnings.warn(\n"
     ]
    }
   ],
   "source": [
    "import pandas as pd\n",
    "from PIL import Image\n",
    "\n",
    "output_file = \"text_image_embeddings_val.csv\"  \n",
    "batch_size = 1  \n",
    "\n",
    "embeddings_df = pd.DataFrame()\n",
    "\n",
    "for i in range(0, len(valid_news), batch_size):\n",
    "    batch_ids = valid_id[i:i+batch_size]\n",
    "    batch_texts = valid_news[i:i+batch_size]\n",
    "    batch_labels = valid_labels[i:i+batch_size]  \n",
    "    batch_inputs = tokenizer(batch_texts, return_tensors=\"pt\", padding=True, truncation=True)\n",
    "    batch_inputs = {k: v.to(device) for k, v in batch_inputs.items()}\n",
    "    batch_text_emb = model.get_text_features(**batch_inputs)\n",
    "    batch_text_emb = batch_text_emb.detach().cpu().numpy()\n",
    "    \n",
    "    temp_df = pd.DataFrame({\n",
    "        'id': batch_ids,\n",
    "        'label': batch_labels,\n",
    "        'text_embedding': ['\\t'.join(map(str, emb)) for emb in batch_text_emb]\n",
    "    })\n",
    "    \n",
    "    for image_path in valid_images_final[i:i+batch_size]:\n",
    "        image = processor(\n",
    "            text=None,\n",
    "            images=Image.open(image_path),\n",
    "            return_tensors='pt'\n",
    "        )['pixel_values'].to(device)\n",
    "        img_emb = model.get_image_features(image)\n",
    "        img_emb = img_emb.detach().cpu().numpy().reshape(1, -1)  \n",
    "        \n",
    "        temp_df['image_embedding'] = ['\\t'.join(map(str, emb)) for emb in img_emb]\n",
    "    \n",
    "    embeddings_df = pd.concat([embeddings_df, temp_df], ignore_index=True)\n",
    "    \n",
    "embeddings_df.to_csv(output_file, index=False)\n"
   ]
  },
  {
   "cell_type": "code",
   "execution_count": 11,
   "metadata": {},
   "outputs": [
    {
     "name": "stderr",
     "output_type": "stream",
     "text": [
      "C:\\Users\\varun\\AppData\\Local\\Packages\\PythonSoftwareFoundation.Python.3.10_qbz5n2kfra8p0\\LocalCache\\local-packages\\Python310\\site-packages\\PIL\\Image.py:979: UserWarning: Palette images with Transparency expressed in bytes should be converted to RGBA images\n",
      "  warnings.warn(\n",
      "C:\\Users\\varun\\AppData\\Local\\Packages\\PythonSoftwareFoundation.Python.3.10_qbz5n2kfra8p0\\LocalCache\\local-packages\\Python310\\site-packages\\PIL\\Image.py:979: UserWarning: Palette images with Transparency expressed in bytes should be converted to RGBA images\n",
      "  warnings.warn(\n",
      "C:\\Users\\varun\\AppData\\Local\\Packages\\PythonSoftwareFoundation.Python.3.10_qbz5n2kfra8p0\\LocalCache\\local-packages\\Python310\\site-packages\\PIL\\Image.py:979: UserWarning: Palette images with Transparency expressed in bytes should be converted to RGBA images\n",
      "  warnings.warn(\n"
     ]
    }
   ],
   "source": [
    "import pandas as pd\n",
    "from PIL import Image\n",
    "\n",
    "output_file = \"text_image_embeddings_test.csv\" \n",
    "batch_size = 1  \n",
    "\n",
    "embeddings_df = pd.DataFrame()\n",
    "\n",
    "for i in range(0, len(test_news), batch_size):\n",
    "    batch_ids = test_id[i:i+batch_size]\n",
    "    batch_texts = test_news[i:i+batch_size]\n",
    "    batch_labels = test_labels[i:i+batch_size]  \n",
    "    batch_inputs = tokenizer(batch_texts, return_tensors=\"pt\", padding=True, truncation=True)\n",
    "    batch_inputs = {k: v.to(device) for k, v in batch_inputs.items()}\n",
    "    batch_text_emb = model.get_text_features(**batch_inputs)\n",
    "    batch_text_emb = batch_text_emb.detach().cpu().numpy()\n",
    "    \n",
    "    temp_df = pd.DataFrame({\n",
    "        'id': batch_ids,\n",
    "        'label': batch_labels,\n",
    "        'text_embedding': ['\\t'.join(map(str, emb)) for emb in batch_text_emb]\n",
    "    })\n",
    "    \n",
    "    for image_path in test_images_final[i:i+batch_size]:\n",
    "        image = processor(\n",
    "            text=None,\n",
    "            images=Image.open(image_path),\n",
    "            return_tensors='pt'\n",
    "        )['pixel_values'].to(device)\n",
    "        img_emb = model.get_image_features(image)\n",
    "        img_emb = img_emb.detach().cpu().numpy().reshape(1, -1)  \n",
    "        \n",
    "        temp_df['image_embedding'] = ['\\t'.join(map(str, emb)) for emb in img_emb]\n",
    "    \n",
    "    embeddings_df = pd.concat([embeddings_df, temp_df], ignore_index=True)\n",
    "    \n",
    "embeddings_df.to_csv(output_file, index=False)\n"
   ]
  },
  {
   "attachments": {},
   "cell_type": "markdown",
   "metadata": {},
   "source": [
    "<h2 align='center'>Defining the Model<h2>"
   ]
  },
  {
   "cell_type": "code",
   "execution_count": 1,
   "metadata": {},
   "outputs": [],
   "source": [
    "import torch\n",
    "import torch.nn as nn\n",
    "import torch.optim as optim\n",
    "import pandas as pd\n",
    "from torch.utils.data import Dataset, DataLoader\n",
    "from sklearn.model_selection import train_test_split"
   ]
  },
  {
   "cell_type": "code",
   "execution_count": 13,
   "metadata": {},
   "outputs": [],
   "source": [
    "class MyDataset(Dataset):\n",
    "    def __init__(self, csv_file):\n",
    "        self.data = pd.read_csv(csv_file)\n",
    "        self.text_embeddings = self.data['text_embedding'].apply(lambda x: list(map(float, x.split('\\t')))).tolist()\n",
    "        self.image_embeddings = self.data['image_embedding'].apply(lambda x: list(map(float, x.split('\\t')))).tolist()\n",
    "        self.labels = self.data['label'].tolist()\n",
    "    \n",
    "    def __len__(self):\n",
    "        return len(self.data)\n",
    "    \n",
    "    def __getitem__(self, index):\n",
    "        text_emb = torch.tensor(self.text_embeddings[index])\n",
    "        img_emb = torch.tensor(self.image_embeddings[index])\n",
    "        label = torch.tensor(self.labels[index])\n",
    "        return text_emb, img_emb, label"
   ]
  },
  {
   "cell_type": "code",
   "execution_count": 14,
   "metadata": {},
   "outputs": [],
   "source": [
    "train_file = 'text_image_embeddings_train.csv'\n",
    "val_file = 'text_image_embeddings_val.csv'\n",
    "test_file = 'text_image_embeddings_test.csv'\n",
    "\n",
    "train_data = MyDataset(train_file)\n",
    "val_data = MyDataset(val_file)\n",
    "test_data = MyDataset(test_file)"
   ]
  },
  {
   "cell_type": "code",
   "execution_count": 15,
   "metadata": {},
   "outputs": [],
   "source": [
    "class ClassificationModel(nn.Module):\n",
    "    def __init__(self, input_size):\n",
    "        super(ClassificationModel, self).__init__()\n",
    "        self.fc1 = nn.Linear(input_size, 256)\n",
    "        self.fc2 = nn.Linear(256, 128)\n",
    "        self.fc3 = nn.Linear(128, 6) \n",
    "    \n",
    "    def forward(self, text_emb, img_emb):\n",
    "        x = torch.cat((text_emb, img_emb), dim=1)\n",
    "        x = self.fc1(x)\n",
    "        x = nn.ReLU()(x)\n",
    "        x = self.fc2(x)\n",
    "        x = nn.ReLU()(x)\n",
    "        x = self.fc3(x)\n",
    "        return x\n",
    "\n",
    "model = ClassificationModel(input_size=512*2)  # fusion"
   ]
  },
  {
   "attachments": {},
   "cell_type": "markdown",
   "metadata": {},
   "source": [
    "<h2 align='center'>Finding the Accuracy<h2>"
   ]
  },
  {
   "cell_type": "code",
   "execution_count": 16,
   "metadata": {},
   "outputs": [
    {
     "name": "stdout",
     "output_type": "stream",
     "text": [
      "Epoch: 1/10, Train Loss: 0.5518, Train Accuracy: 0.7988, Val Loss: 0.4790, Val Accuracy: 0.8232\n",
      "Epoch: 2/10, Train Loss: 0.3675, Train Accuracy: 0.8660, Val Loss: 0.4566, Val Accuracy: 0.8378\n",
      "Epoch: 3/10, Train Loss: 0.2588, Train Accuracy: 0.9070, Val Loss: 0.4757, Val Accuracy: 0.8340\n",
      "Epoch: 4/10, Train Loss: 0.1608, Train Accuracy: 0.9430, Val Loss: 0.5982, Val Accuracy: 0.8298\n",
      "Epoch: 5/10, Train Loss: 0.0921, Train Accuracy: 0.9670, Val Loss: 0.7294, Val Accuracy: 0.8283\n",
      "Epoch: 6/10, Train Loss: 0.0637, Train Accuracy: 0.9774, Val Loss: 0.8395, Val Accuracy: 0.8221\n",
      "Epoch: 7/10, Train Loss: 0.0498, Train Accuracy: 0.9829, Val Loss: 0.9514, Val Accuracy: 0.8216\n",
      "Epoch: 8/10, Train Loss: 0.0476, Train Accuracy: 0.9830, Val Loss: 0.9711, Val Accuracy: 0.8247\n",
      "Epoch: 9/10, Train Loss: 0.0375, Train Accuracy: 0.9870, Val Loss: 1.0027, Val Accuracy: 0.8296\n",
      "Epoch: 10/10, Train Loss: 0.0375, Train Accuracy: 0.9873, Val Loss: 1.0839, Val Accuracy: 0.8241\n"
     ]
    }
   ],
   "source": [
    "device = torch.device('cuda' if torch.cuda.is_available() else 'cpu')\n",
    "\n",
    "train_loader = DataLoader(train_data, batch_size=32, shuffle=True)\n",
    "val_loader = DataLoader(val_data, batch_size=32)\n",
    "test_loader = DataLoader(test_data, batch_size=32)\n",
    "\n",
    "criterion = nn.CrossEntropyLoss()\n",
    "optimizer = optim.Adam(model.parameters(), lr=0.001)\n",
    "\n",
    "model.to(device)\n",
    "criterion.to(device)\n",
    "\n",
    "num_epochs = 10\n",
    "\n",
    "for epoch in range(num_epochs):\n",
    "    train_loss = 0.0\n",
    "    train_correct = 0.0\n",
    "    model.train()\n",
    "    \n",
    "    for text_emb, img_emb, labels in train_loader:\n",
    "        text_emb = text_emb.to(device)\n",
    "        img_emb = img_emb.to(device)\n",
    "        labels = labels.to(device)\n",
    "        \n",
    "        optimizer.zero_grad()\n",
    "        \n",
    "        outputs = model(text_emb, img_emb)\n",
    "        _, predicted = torch.max(outputs.data, 1)\n",
    "        \n",
    "        loss = criterion(outputs, labels.long())\n",
    "        loss.backward()\n",
    "        optimizer.step()\n",
    "        \n",
    "        train_loss += loss.item()\n",
    "        train_correct += (predicted == labels).sum().item()\n",
    "    \n",
    "    train_accuracy = train_correct / len(train_data)\n",
    "    train_loss /= len(train_loader)\n",
    "    \n",
    "    model.eval()\n",
    "    val_loss = 0.0\n",
    "    val_correct = 0.0\n",
    "    \n",
    "    with torch.no_grad():\n",
    "        for text_emb, img_emb, labels in val_loader:\n",
    "            text_emb = text_emb.to(device)\n",
    "            img_emb = img_emb.to(device)\n",
    "            labels = labels.to(device)\n",
    "            \n",
    "            outputs = model(text_emb, img_emb)\n",
    "            _, predicted = torch.max(outputs.data, 1)\n",
    "            \n",
    "            loss = criterion(outputs, labels.long())\n",
    "            \n",
    "            val_loss += loss.item()\n",
    "            val_correct += (predicted == labels).sum().item()\n",
    "    \n",
    "    val_accuracy = val_correct / len(val_data)\n",
    "    val_loss /= len(val_loader)\n",
    "    \n",
    "    print(f'Epoch: {epoch+1}/{num_epochs}, Train Loss: {train_loss:.4f}, Train Accuracy: {train_accuracy:.4f}, '\n",
    "          f'Val Loss: {val_loss:.4f}, Val Accuracy: {val_accuracy:.4f}')"
   ]
  },
  {
   "cell_type": "code",
   "execution_count": 17,
   "metadata": {},
   "outputs": [
    {
     "name": "stdout",
     "output_type": "stream",
     "text": [
      "Test Accuracy: 0.8288\n"
     ]
    }
   ],
   "source": [
    "model.eval()\n",
    "test_correct = 0.0\n",
    "\n",
    "with torch.no_grad():\n",
    "    for text_emb, img_emb, labels in test_loader:\n",
    "        text_emb = text_emb.to(device)\n",
    "        img_emb = img_emb.to(device)\n",
    "        labels = labels.to(device)\n",
    "        \n",
    "        outputs = model(text_emb, img_emb)\n",
    "        _, predicted = torch.max(outputs.data, 1)\n",
    "        \n",
    "        test_correct += (predicted == labels).sum().item()\n",
    "\n",
    "test_accuracy = test_correct / len(test_data)\n",
    "print(f'Test Accuracy: {test_accuracy:.4f}')"
   ]
  },
  {
   "attachments": {},
   "cell_type": "markdown",
   "metadata": {},
   "source": [
    "<h2 align='center'>Making a Predictive System<h2>"
   ]
  },
  {
   "cell_type": "code",
   "execution_count": 27,
   "metadata": {},
   "outputs": [
    {
     "name": "stdout",
     "output_type": "stream",
     "text": [
      "id: 9ij982\n",
      "Predicted: 1, Actual: 1\n",
      "\n",
      "id: 69a8z8\n",
      "Predicted: 5, Actual: 5\n",
      "\n",
      "id: 85mi39\n",
      "Predicted: 3, Actual: 3\n",
      "\n",
      "id: 3yld8t\n",
      "Predicted: 3, Actual: 3\n",
      "\n",
      "id: 3bp10f\n",
      "Predicted: 0, Actual: 3\n",
      "\n",
      "id: 6cmjvp\n",
      "Predicted: 3, Actual: 3\n",
      "\n",
      "id: 713udl\n",
      "Predicted: 1, Actual: 1\n",
      "\n",
      "id: 7uafve\n",
      "Predicted: 3, Actual: 3\n",
      "\n"
     ]
    }
   ],
   "source": [
    "import random\n",
    "\n",
    "model.eval()\n",
    "\n",
    "sample_indices = random.sample(range(len(test_data)), k=8)\n",
    "sample_data = [test_data[i] for i in sample_indices]\n",
    "\n",
    "for idx, (text_emb, img_emb, labels) in zip(sample_indices, sample_data):\n",
    "    text_emb = text_emb.to(device)\n",
    "    img_emb = img_emb.to(device)\n",
    "    labels = labels.to(device)\n",
    "\n",
    "    output = model(text_emb.unsqueeze(0), img_emb.unsqueeze(0))\n",
    "    _, predicted = torch.max(output, 1)\n",
    "\n",
    "    predicted_label = predicted.item()\n",
    "    actual_label = labels.item()\n",
    "\n",
    "    entry_id = test_data.data['id'][idx]\n",
    "\n",
    "    print(f\"id: {entry_id}\\nPredicted: {predicted_label}, Actual: {actual_label}\")\n",
    "    print(\"\")"
   ]
  },
  {
   "attachments": {},
   "cell_type": "markdown",
   "metadata": {},
   "source": [
    "<h2 align='center'>Saving the Model<h2>"
   ]
  },
  {
   "cell_type": "code",
   "execution_count": 26,
   "metadata": {},
   "outputs": [
    {
     "name": "stdout",
     "output_type": "stream",
     "text": [
      "Model saved successfully!\n"
     ]
    }
   ],
   "source": [
    "model_path = \"week5.pth\"\n",
    "\n",
    "torch.save(model.state_dict(), model_path)\n",
    "\n",
    "print(\"Model saved successfully!\")"
   ]
  }
 ],
 "metadata": {
  "kernelspec": {
   "display_name": "Python 3",
   "language": "python",
   "name": "python3"
  },
  "language_info": {
   "codemirror_mode": {
    "name": "ipython",
    "version": 3
   },
   "file_extension": ".py",
   "mimetype": "text/x-python",
   "name": "python",
   "nbconvert_exporter": "python",
   "pygments_lexer": "ipython3",
   "version": "3.10.2"
  },
  "orig_nbformat": 4
 },
 "nbformat": 4,
 "nbformat_minor": 2
}

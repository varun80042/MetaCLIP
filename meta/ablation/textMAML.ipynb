{
 "cells": [
  {
   "cell_type": "code",
   "execution_count": 1,
   "metadata": {},
   "outputs": [],
   "source": [
    "import numpy as np\n",
    "import pandas as pd\n",
    "from sklearn.preprocessing import LabelEncoder\n",
    "from sklearn.model_selection import train_test_split\n",
    "from sklearn.metrics import accuracy_score\n",
    "\n",
    "import warnings\n",
    "\n",
    "warnings.filterwarnings('ignore')\n",
    "import torch\n",
    "import torch.nn as nn\n",
    "import torch.optim as optim\n",
    "from torch.utils.data import Dataset, DataLoader"
   ]
  },
  {
   "cell_type": "code",
   "execution_count": 2,
   "metadata": {},
   "outputs": [
    {
     "name": "stdout",
     "output_type": "stream",
     "text": [
      "cuda\n"
     ]
    }
   ],
   "source": [
    "device = \"cuda\" if torch.cuda.is_available() else \"cpu\"\n",
    "print(device)"
   ]
  },
  {
   "cell_type": "markdown",
   "metadata": {},
   "source": [
    "# defining the model"
   ]
  },
  {
   "cell_type": "code",
   "execution_count": 3,
   "metadata": {},
   "outputs": [],
   "source": [
    "class CustomDataset(Dataset):\n",
    "    def __init__(self, x, y):\n",
    "        self.x = torch.tensor(x, dtype=torch.float32).to(device)\n",
    "        self.y = torch.tensor(y, dtype=torch.long).to(device)\n",
    "    \n",
    "    def __len__(self):\n",
    "        return len(self.x)\n",
    "    \n",
    "    def __getitem__(self, idx):\n",
    "        return self.x[idx], self.y[idx]"
   ]
  },
  {
   "cell_type": "code",
   "execution_count": 4,
   "metadata": {},
   "outputs": [],
   "source": [
    "class MAML(nn.Module):\n",
    "    def __init__(self, input_dim, output_dim):\n",
    "        super(MAML, self).__init__()\n",
    "        self.input_dim = input_dim\n",
    "        self.output_dim = output_dim\n",
    "        self.num_samples = 6\n",
    "        self.epochs = 20\n",
    "        self.alpha = 0.05  \n",
    "        self.beta = 0.01  # meta learning rate\n",
    "        self.theta = nn.Parameter(torch.randn(input_dim, output_dim).to(device))\n",
    "        self.softmax = nn.Softmax(dim=1)\n",
    "\n",
    "    def forward(self, x):\n",
    "        a = torch.matmul(x, self.theta)\n",
    "        return self.softmax(a)\n",
    "\n",
    "    def sample_points(self, k, x, y):\n",
    "        indices = np.random.choice(len(x), k)\n",
    "        return x[indices], y[indices]\n",
    "\n",
    "    def train(self, x_train, y_train, x_val, y_val):\n",
    "        train_dataset = CustomDataset(x_train, y_train)\n",
    "        train_loader = DataLoader(train_dataset, batch_size=self.num_samples, shuffle=True)\n",
    "\n",
    "        optimizer = optim.Adam(self.parameters(), lr=self.alpha)\n",
    "\n",
    "        for e in range(1, self.epochs + 1):\n",
    "            self.theta_ = []\n",
    "            for x_batch, y_batch in train_loader:\n",
    "                x_batch = x_batch.to(device)\n",
    "                y_batch = y_batch.to(device)\n",
    "\n",
    "                y_hat = self.forward(x_batch)\n",
    "                y_batch_encoded = torch.eye(self.output_dim, device=device)[y_batch]\n",
    "                loss = -torch.mean(y_batch_encoded * torch.log(y_hat + 1e-7))\n",
    "\n",
    "                optimizer.zero_grad()\n",
    "                loss.backward()\n",
    "                optimizer.step()\n",
    "\n",
    "                self.theta_.append(self.theta.detach().clone())\n",
    "\n",
    "            meta_gradient = torch.zeros_like(self.theta, dtype=torch.float32).to(device)\n",
    "            for i in range(self.num_samples):\n",
    "                x_test, y_test = self.sample_points(10, x_train, y_train)\n",
    "                x_test = torch.tensor(x_test, dtype=torch.float32).to(device)\n",
    "                y_pred = self.forward(x_test)\n",
    "                y_test_encoded = torch.eye(self.output_dim)[y_test].to(device)\n",
    "                meta_gradient += torch.matmul(x_test.T, (y_pred - y_test_encoded)) / self.num_samples\n",
    "\n",
    "            self.theta.data -= self.beta * meta_gradient\n",
    "\n",
    "            with warnings.catch_warnings():\n",
    "                warnings.filterwarnings(\"ignore\", category=UserWarning)\n",
    "                x_val = torch.tensor(x_val, dtype=torch.float32).to(device).clone().detach().requires_grad_(True)\n",
    "            y_val_pred = self.forward(x_val)\n",
    "            val_loss = -torch.mean(torch.eye(self.output_dim, device=device)[y_val] * torch.log(y_val_pred + 1e-7))\n",
    "\n",
    "    def predict(self, x):\n",
    "        with torch.no_grad():\n",
    "            x = torch.tensor(x, dtype=torch.float32).to(device)\n",
    "            y_pred = self.forward(x)\n",
    "            _, predictions = torch.max(y_pred, dim=1)\n",
    "            return predictions.cpu().numpy()\n"
   ]
  },
  {
   "cell_type": "code",
   "execution_count": 5,
   "metadata": {},
   "outputs": [],
   "source": [
    "data = pd.read_csv('text_embeddings_train.csv')\n",
    "x = data['text_embedding'].str.split('\\t', expand=True).astype(float).values\n",
    "\n",
    "label_encoder = LabelEncoder()\n",
    "y = label_encoder.fit_transform(data['label'])"
   ]
  },
  {
   "cell_type": "code",
   "execution_count": 6,
   "metadata": {},
   "outputs": [
    {
     "data": {
      "text/plain": [
       "43793"
      ]
     },
     "execution_count": 6,
     "metadata": {},
     "output_type": "execute_result"
    }
   ],
   "source": [
    "len(data)"
   ]
  },
  {
   "cell_type": "code",
   "execution_count": 7,
   "metadata": {},
   "outputs": [
    {
     "name": "stdout",
     "output_type": "stream",
     "text": [
      "6\n"
     ]
    }
   ],
   "source": [
    "num_labels = len(label_encoder.classes_)\n",
    "print(num_labels)"
   ]
  },
  {
   "cell_type": "code",
   "execution_count": 8,
   "metadata": {},
   "outputs": [],
   "source": [
    "models = []\n",
    "accuracies = []"
   ]
  },
  {
   "cell_type": "markdown",
   "metadata": {},
   "source": [
    "# training"
   ]
  },
  {
   "cell_type": "code",
   "execution_count": 11,
   "metadata": {},
   "outputs": [],
   "source": [
    "x_train, x_temp, y_train, y_temp = train_test_split(x, y, test_size=0.8,stratify=y, random_state=42)\n",
    "x_val, x_test, y_val, y_test = train_test_split(x_temp, y_temp, test_size=0.5,stratify=y_temp, random_state=42)\n",
    "\n",
    "model = MAML(input_dim=x.shape[1], output_dim=num_labels).to(device)\n",
    "\n",
    "model.train(x_train, y_train, x_val, y_val)\n",
    "\n",
    "label_accuracy = {}\n",
    "for label_idx, label in enumerate(label_encoder.classes_):\n",
    "    label_indices = np.where(y_val == label_idx)[0]\n",
    "    label_x_val = x_val[label_indices]\n",
    "    label_y_val = y_val[label_indices]\n",
    "    with torch.no_grad():\n",
    "        label_x_val_tensor = torch.tensor(label_x_val, dtype=torch.float32).to(device)\n",
    "        label_y_val_pred = model.predict(label_x_val_tensor)\n",
    "        label_accuracy[label] = accuracy_score(label_y_val, label_y_val_pred)"
   ]
  },
  {
   "cell_type": "code",
   "execution_count": 12,
   "metadata": {},
   "outputs": [
    {
     "name": "stdout",
     "output_type": "stream",
     "text": [
      "Label: 0, Accuracy: 0.5659\n",
      "Label: 1, Accuracy: 0.5566\n",
      "Label: 2, Accuracy: 0.4494\n",
      "Label: 3, Accuracy: 0.5866\n",
      "Label: 4, Accuracy: 0.8036\n",
      "Label: 5, Accuracy: 0.7563\n"
     ]
    }
   ],
   "source": [
    "for label, accuracy in label_accuracy.items():\n",
    "    print(f\"Label: {label}, Accuracy: {accuracy:.4f}\")"
   ]
  },
  {
   "cell_type": "code",
   "execution_count": 13,
   "metadata": {},
   "outputs": [
    {
     "name": "stdout",
     "output_type": "stream",
     "text": [
      "Testing Accuracy: 0.6262\n"
     ]
    }
   ],
   "source": [
    "with torch.no_grad():\n",
    "    x_test_tensor = torch.tensor(x_test, dtype=torch.float32).to(device)\n",
    "    y_test_pred = model.predict(x_test_tensor)\n",
    "    test_accuracy = accuracy_score(y_test, y_test_pred)\n",
    "    print(f\"Testing Accuracy: {test_accuracy:.4f}\")"
   ]
  }
 ],
 "metadata": {
  "kernelspec": {
   "display_name": "Python 3",
   "language": "python",
   "name": "python3"
  },
  "language_info": {
   "codemirror_mode": {
    "name": "ipython",
    "version": 3
   },
   "file_extension": ".py",
   "mimetype": "text/x-python",
   "name": "python",
   "nbconvert_exporter": "python",
   "pygments_lexer": "ipython3",
   "version": "3.11.5"
  }
 },
 "nbformat": 4,
 "nbformat_minor": 2
}
